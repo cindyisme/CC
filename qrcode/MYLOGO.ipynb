{
 "cells": [
  {
   "cell_type": "code",
   "execution_count": 4,
   "metadata": {},
   "outputs": [
    {
     "name": "stdout",
     "output_type": "stream",
     "text": [
      "Requirement already satisfied: qrcode in c:\\users\\cindy\\downloads\\anaconda\\lib\\site-packages (7.3.1)\n",
      "Requirement already satisfied: colorama; platform_system == \"Windows\" in c:\\users\\cindy\\downloads\\anaconda\\lib\\site-packages (from qrcode) (0.4.3)\n",
      "Note: you may need to restart the kernel to use updated packages.\n"
     ]
    }
   ],
   "source": [
    "pip install qrcode "
   ]
  },
  {
   "cell_type": "code",
   "execution_count": 29,
   "metadata": {},
   "outputs": [],
   "source": [
    "# -- coding: utf-8 --\n",
    "import qrcode\n",
    "from PIL import Image\n",
    "qr = qrcode.QRCode(version=5,\n",
    "                   error_correction=qrcode.constants.ERROR_CORRECT_M,\n",
    "                   box_size=10,\n",
    "                   border=4)\n",
    "qr.add_data(\"我是文馨!\")\n",
    "img = qr.make_image()\n",
    "img = img.convert('RGBA')\n",
    "# 設定色彩\n",
    "img = qr.make_image(fill_color=\"purple\", back_color=\"pink\")\n",
    "# 讀取客製化圖片以嵌入QR code中\n",
    "icon = Image.open('logo.jpg')\n",
    "img_w, img_h = img.size\n",
    "factor = 4\n",
    "size_w = int(img_w/factor)\n",
    "size_h = int(img_h/factor)\n",
    " \n",
    "icon_w, icon_h = icon.size\n",
    "if icon_w > size_w:\n",
    "    icon_w = size_w\n",
    "if icon_h > size_h:\n",
    "    icon_h = size_h\n",
    " \n",
    "icon = icon.resize((icon_w, icon_h), Image.NEAREST)\n",
    " \n",
    "w = int((img_w - icon_w)/2)\n",
    "h = int((img_h - icon_h)/2)\n",
    "icon = icon.convert('RGBA')\n",
    "img.paste(icon, (w,h), icon)\n",
    " \n",
    "img.save(\"logoMe.png\")"
   ]
  },
  {
   "cell_type": "code",
   "execution_count": null,
   "metadata": {},
   "outputs": [],
   "source": []
  },
  {
   "cell_type": "code",
   "execution_count": null,
   "metadata": {},
   "outputs": [],
   "source": []
  },
  {
   "cell_type": "markdown",
   "metadata": {},
   "source": [
    "\n"
   ]
  },
  {
   "cell_type": "code",
   "execution_count": null,
   "metadata": {},
   "outputs": [],
   "source": []
  },
  {
   "cell_type": "code",
   "execution_count": null,
   "metadata": {},
   "outputs": [],
   "source": []
  }
 ],
 "metadata": {
  "kernelspec": {
   "display_name": "Python 3",
   "language": "python",
   "name": "python3"
  },
  "language_info": {
   "codemirror_mode": {
    "name": "ipython",
    "version": 3
   },
   "file_extension": ".py",
   "mimetype": "text/x-python",
   "name": "python",
   "nbconvert_exporter": "python",
   "pygments_lexer": "ipython3",
   "version": "3.7.6"
  }
 },
 "nbformat": 4,
 "nbformat_minor": 4
}

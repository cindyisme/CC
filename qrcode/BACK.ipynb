{
 "cells": [
  {
   "cell_type": "code",
   "execution_count": 1,
   "metadata": {},
   "outputs": [
    {
     "name": "stdout",
     "output_type": "stream",
     "text": [
      "Collecting MyQR\n",
      "  Using cached MyQR-2.3.1.zip (16 kB)\n",
      "Requirement already satisfied: imageio>=1.5 in c:\\users\\cindy\\downloads\\anaconda\\lib\\site-packages (from MyQR) (2.6.1)\n",
      "Requirement already satisfied: numpy>=1.11.1 in c:\\users\\cindy\\downloads\\anaconda\\lib\\site-packages (from MyQR) (1.18.1)\n",
      "Requirement already satisfied: Pillow>=3.3.1 in c:\\users\\cindy\\downloads\\anaconda\\lib\\site-packages (from MyQR) (7.0.0)\n",
      "Building wheels for collected packages: MyQR\n",
      "  Building wheel for MyQR (setup.py): started\n",
      "  Building wheel for MyQR (setup.py): finished with status 'done'\n",
      "  Created wheel for MyQR: filename=MyQR-2.3.1-py3-none-any.whl size=16673 sha256=6b3ac854079b6b9e3938e16ca9af82e7db736d0d7a1e6a05b62deaf9324384a7\n",
      "  Stored in directory: c:\\users\\cindy\\appdata\\local\\pip\\cache\\wheels\\28\\27\\d8\\dffd5b6e4d022c5b6a9866c96a6b80292b63bd121a1f92cbb3\n",
      "Successfully built MyQR\n",
      "Installing collected packages: MyQR\n",
      "Successfully installed MyQR-2.3.1\n",
      "Note: you may need to restart the kernel to use updated packages.\n"
     ]
    }
   ],
   "source": [
    "pip install MyQR "
   ]
  },
  {
   "cell_type": "code",
   "execution_count": 9,
   "metadata": {},
   "outputs": [
    {
     "name": "stdout",
     "output_type": "stream",
     "text": [
      "line 16: mode: byte\n"
     ]
    },
    {
     "data": {
      "text/plain": [
       "(6, 'H', 'C:\\\\Users\\\\Cindy\\\\anaconda3\\\\qrcode\\\\IGqrcode.gif')"
      ]
     },
     "execution_count": 9,
     "metadata": {},
     "output_type": "execute_result"
    }
   ],
   "source": [
    "from MyQR import myqr\n",
    "\n",
    "myqr.run(words = 'https://instagram.com/changcindy23?utm_medium=copy_link', # 可放網址或文字(限英文)\n",
    "         picture = 'q.gif', # 一定要放gif檔案喔\n",
    "         level = 'H', # 糾錯水平，預設是H(最高)\n",
    "         colorized = True, # 背景圖片是否用彩色，True為彩色\n",
    "         save_name = 'IGqrcode.gif') # 儲存檔案名稱，一定要用gif"
   ]
  },
  {
   "cell_type": "code",
   "execution_count": null,
   "metadata": {},
   "outputs": [],
   "source": []
  }
 ],
 "metadata": {
  "kernelspec": {
   "display_name": "Python 3",
   "language": "python",
   "name": "python3"
  },
  "language_info": {
   "codemirror_mode": {
    "name": "ipython",
    "version": 3
   },
   "file_extension": ".py",
   "mimetype": "text/x-python",
   "name": "python",
   "nbconvert_exporter": "python",
   "pygments_lexer": "ipython3",
   "version": "3.7.6"
  }
 },
 "nbformat": 4,
 "nbformat_minor": 4
}
